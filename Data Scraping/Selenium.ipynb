{
 "cells": [
  {
   "cell_type": "markdown",
   "metadata": {},
   "source": [
    "A headless browser is a web browser without a graphical user interface.\n",
    "Headless browsers provide automated control of a web page in an environment similar to popular web browsers, but are executed via a command-line interface or using network communication. They are particularly useful for testing web pages as they are able to render and understand HTML the same way a browser would, including styling elements such as page layout, colour, font selection and execution of JavaScript and AJAX which are usually not available when using other testing methods."
   ]
  },
  {
   "cell_type": "code",
   "execution_count": 1,
   "metadata": {},
   "outputs": [],
   "source": [
    "# Using Selenium with Headless Firefox\n",
    "import os\n",
    "import sys\n",
    "from selenium.webdriver.firefox.firefox_binary import FirefoxBinary\n",
    "from selenium import webdriver\n",
    "\n",
    "os.environ['MOZ_HEADLESS'] = '1'\n",
    "binary = FirefoxBinary('D:\\\\Mozilla Firefox\\\\firefox.exe', log_file=sys.stdout)\n",
    "driver = webdriver.Firefox(firefox_binary=binary)"
   ]
  },
  {
   "cell_type": "code",
   "execution_count": 16,
   "metadata": {},
   "outputs": [],
   "source": [
    "# Using Selenium normally\n",
    "from selenium import webdriver\n",
    "driver = webdriver.Firefox()"
   ]
  },
  {
   "cell_type": "code",
   "execution_count": null,
   "metadata": {},
   "outputs": [],
   "source": [
    "/html/body/div[4]/form/div[3]/div[7]/div/div[2]/table[2]/tbody[2]/tr[2]/td[3]/div[2]\n",
    "/html/body/div[4]/form/div[3]/div[7]/div/div[2]/table[2]/tbody[2]/tr[8]/td[3]/div[2]\n",
    "/html/body/div[4]/form/div[3]/div[7]/div/div[2]/table[2]/tbody[2]/tr[14]/td[3]/div[2]\n",
    "/html/body/div[4]/form/div[3]/div[7]/div/div[2]/table[2]/tbody[2]/tr[20]/td[3]/div[2]"
   ]
  },
  {
   "cell_type": "code",
   "execution_count": 2,
   "metadata": {},
   "outputs": [],
   "source": [
    "driver.get('http://www.tsetmc.com/loader.aspx?ParTree=151311&i=14398278072324784')\n",
    "#print(driver.page_source)"
   ]
  },
  {
   "cell_type": "code",
   "execution_count": 3,
   "metadata": {},
   "outputs": [
    {
     "data": {
      "text/plain": [
       "'7,551.086 B'"
      ]
     },
     "execution_count": 3,
     "metadata": {},
     "output_type": "execute_result"
    }
   ],
   "source": [
    "# Getting Elements by ID\n",
    "element = driver.find_element_by_id('d11')\n",
    "element.text"
   ]
  },
  {
   "cell_type": "code",
   "execution_count": null,
   "metadata": {},
   "outputs": [],
   "source": [
    "# Getting Elements by Name\n",
    "element = driver.find_element_by_name('element_name')"
   ]
  },
  {
   "cell_type": "code",
   "execution_count": 24,
   "metadata": {},
   "outputs": [
    {
     "data": {
      "text/plain": [
       "'خرید معامله فروش\\n26,609 26,609  1,267  (5%)\\nاولین پایانی دیروز\\n24,250 25,734  392  (1.55%) 25,342'"
      ]
     },
     "execution_count": 24,
     "metadata": {},
     "output_type": "execute_result"
    }
   ],
   "source": [
    "# Getting Elements by Class\n",
    "element = driver.find_elements_by_class_name('box6')\n",
    "element[0].text"
   ]
  },
  {
   "cell_type": "code",
   "execution_count": null,
   "metadata": {},
   "outputs": [],
   "source": [
    "# Getting Elements by HTML Tag\n",
    "links = driver.find_elements_by_tag_name('a')"
   ]
  },
  {
   "cell_type": "code",
   "execution_count": null,
   "metadata": {},
   "outputs": [],
   "source": [
    "# Getting Elements by XPath\n",
    "tag_list = driver.find_elements_by_xpath(\"//tag[@attr='val']\")\n",
    "\n",
    "# Find more about Xpath: https://www.guru99.com/xpath-selenium.html"
   ]
  },
  {
   "cell_type": "markdown",
   "metadata": {},
   "source": [
    "### Selenium WebElement\n",
    "\n",
    "A Selenium WebElement practically represents an HTML element. "
   ]
  },
  {
   "cell_type": "markdown",
   "metadata": {},
   "source": [
    "\n",
    "    Accessing simple properties of the element, like the text inside (element.text)\n",
    "    Accessing parent elements, which are also of type WebElement (element.parent)\n",
    "    Accessing specific attributes, like the href of an a tag (element.get_attribute('href'))\n",
    "    Searching within it (the same way you'd search in driver)\n",
    "    Clicking it (element.click())\n",
    "    Inputting text if possible (element.send_keys(‘Input Text'))\n"
   ]
  },
  {
   "cell_type": "markdown",
   "metadata": {},
   "source": [
    "### Selenium WebDriver\n",
    "\n",
    "WebDriver is similar to WebElement, however, the main difference is their scope. The latter's scope is the element itself, whereas the former's scope is the whole page. You can do plenty of things with a Selenium WebDriver object as well, practically anything you could do as a human with a normal browser."
   ]
  },
  {
   "cell_type": "code",
   "execution_count": null,
   "metadata": {},
   "outputs": [],
   "source": [
    "# Executing JavaScript\n",
    "driver.execute_script(\"script\")"
   ]
  },
  {
   "cell_type": "code",
   "execution_count": null,
   "metadata": {},
   "outputs": [],
   "source": [
    "# Saving a screenshot\n",
    "driver.save_screenshot('image.png')"
   ]
  },
  {
   "cell_type": "code",
   "execution_count": null,
   "metadata": {},
   "outputs": [],
   "source": [
    "# Initiate in \"headless mode\", where the browser saves time by not rendering the page:\n",
    "from selenium.webdriver.chrome.options import Options\n",
    "options = Options()\n",
    "options.headless = True\n",
    "driver = webdriver.Chrome(executable_path=EXE_PATH, chrome_options=options)\n",
    "driver.set_window_size(1440, 900)\n",
    "# Note that the window size is set to (1440, 900), that is to prevent all sorts of bugs regarding some elements not loading properly because of the headless mode."
   ]
  },
  {
   "cell_type": "code",
   "execution_count": null,
   "metadata": {},
   "outputs": [],
   "source": [
    "# This adds a cookie to the browser, which can be helpful if you need to add authentication or preference cookies, for example.\n",
    "ck = {'some_attr': 'foo', 'some_other_attr': 'bar'}\n",
    "driver.add_cookie(ck)"
   ]
  },
  {
   "cell_type": "code",
   "execution_count": null,
   "metadata": {},
   "outputs": [],
   "source": [
    "# It's also very easy to retrieve the cookies from the browser:\n",
    "cookies = driver.get_cookies()\n",
    "for ck in cookies:\n",
    "    print(ck)"
   ]
  },
  {
   "cell_type": "code",
   "execution_count": null,
   "metadata": {},
   "outputs": [],
   "source": [
    "# Sometimes you might find yourself in need of changing a cerain element's property.\n",
    "driver.execute_script(\"arguments[0].setAttribute('attr','value')\", element)"
   ]
  },
  {
   "cell_type": "code",
   "execution_count": null,
   "metadata": {},
   "outputs": [],
   "source": [
    "# Downloading Files using Download Links\n",
    "from selenium import webdriver\n",
    "from selenium.webdriver.chrome.options import Options\n",
    "\n",
    "options = Options()\n",
    "options.add_experimental_option(\"prefs\", {\n",
    "    \"download.default_directory\": r\"path\\to\\directory\",\n",
    "    \"download.prompt_for_download\": False,\n",
    "    \"download.directory_upgrade\": True,\n",
    "    \"safebrowsing.enabled\": True\n",
    "})\n",
    "\n",
    "driver = webdriver.Chrome(executable_path=EXE_PATH, chrome_options=options)"
   ]
  },
  {
   "cell_type": "code",
   "execution_count": null,
   "metadata": {},
   "outputs": [],
   "source": [
    "# Pressing Keys\n",
    "import time\n",
    "from selenium.webdriver import ActionChains\n",
    "from selenium.webdriver.common.keys import Keys\n",
    "\n",
    "action = ActionChains(driver)\n",
    "for _ in range(3):\n",
    "    action.send_keys(Keys.ARROW_DOWN)\n",
    "    time.sleep(.1)\n",
    "action.perform()"
   ]
  },
  {
   "cell_type": "code",
   "execution_count": null,
   "metadata": {},
   "outputs": [],
   "source": [
    "# Clicking Buttons\n",
    "checkbox = driver.find_element_by_id('checkbox')\n",
    "checkbox.click()"
   ]
  },
  {
   "cell_type": "code",
   "execution_count": null,
   "metadata": {},
   "outputs": [],
   "source": [
    "# Inputting Forms\n",
    "element.send_keys(Keys.CONTROL, 'a')\n",
    "element.send_keys(value)"
   ]
  },
  {
   "cell_type": "code",
   "execution_count": null,
   "metadata": {},
   "outputs": [],
   "source": [
    "# Scrolling\n",
    "driver.execute_script(\"window.scrollTo(0, document.body.scrollHeight);\")"
   ]
  },
  {
   "cell_type": "code",
   "execution_count": 10,
   "metadata": {},
   "outputs": [],
   "source": [
    "driver.close()"
   ]
  },
  {
   "cell_type": "code",
   "execution_count": null,
   "metadata": {},
   "outputs": [],
   "source": []
  }
 ],
 "metadata": {
  "kernelspec": {
   "display_name": "Python 3",
   "language": "python",
   "name": "python3"
  },
  "language_info": {
   "codemirror_mode": {
    "name": "ipython",
    "version": 3
   },
   "file_extension": ".py",
   "mimetype": "text/x-python",
   "name": "python",
   "nbconvert_exporter": "python",
   "pygments_lexer": "ipython3",
   "version": "3.7.3"
  }
 },
 "nbformat": 4,
 "nbformat_minor": 2
}
