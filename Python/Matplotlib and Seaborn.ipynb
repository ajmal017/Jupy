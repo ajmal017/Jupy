{
 "cells": [
  {
   "cell_type": "code",
   "execution_count": 2,
   "metadata": {},
   "outputs": [],
   "source": [
    "import matplotlib.pyplot as plt\n",
    "%matplotlib inline\n",
    "import seaborn as sb # a Package for better visualisation"
   ]
  },
  {
   "cell_type": "code",
   "execution_count": 8,
   "metadata": {},
   "outputs": [
    {
     "data": {
      "image/png": "[encoded data removed]",
      "text/plain": [
       "<Figure size 720x360 with 1 Axes>"
      ]
     },
     "metadata": {},
     "output_type": "display_data"
    }
   ],
   "source": [
    "x = [1,2,3,4,5,6,7]\n",
    "y = [23,4,3,3,2,22,9]\n",
    "plt.figure(figsize = (10,5))\n",
    "plt.subplot(1,2,1)\n",
    "plt.ylabel('Price')\n",
    "plt.xlabel(\"Time\")\n",
    "plt.plot(x, y) # .scatter, .hist, .pie, \n",
    "plt.show()"
   ]
  },
  {
   "cell_type": "code",
   "execution_count": null,
   "metadata": {},
   "outputs": [],
   "source": [
    "#Types of charts\n",
    "years=[1960,1970,1980,1990,2000,2010,2016]\n",
    "iran_pop=[21.91,28.51,38.67,56.23,66.13,74.57,80.28]\n",
    "# Line Plot\n",
    "plt.plot(years,iran_pop)\n",
    "# Scatter plot\n",
    "plt.scatter(years,iran_pop)\n",
    "# Histogram\n",
    "plt.hist(iran_pop,bins=3)# best size of bin = sqrt(number of data)\n",
    "# pie chart\n",
    "plt.pie(iran_pop,labels=years)"
   ]
  },
  {
   "cell_type": "code",
   "execution_count": null,
   "metadata": {},
   "outputs": [],
   "source": [
    "# subplot\n",
    "plt.subplot(1,2,1)\n",
    "plt.plot(iran_pop,ls='-',marker='+',mew=8)\n",
    "plt.subplot(1,2,2)\n",
    "plt.plot(turkey_pop,ls='--',lw=1)\n",
    "plt.show()"
   ]
  },
  {
   "cell_type": "code",
   "execution_count": null,
   "metadata": {},
   "outputs": [],
   "source": [
    "sb.set(color_codes = True)\n",
    "sb.distplot(data[\"Close Price\"])\n",
    "# Strip plot\n",
    "sb.stripplot(x='OS',y='Capacity',data=SP,size=10,jitter=True)\n",
    "# swarm plot\n",
    "sb.swarmplot(x='OS',y='Capacity',data=SP,size=10,hue='Company')\n",
    "# box plot\n",
    "sb.boxplot(x='Company',y='Ram', data=SP)\n",
    "# joint plot\n",
    "sb.jointplot(x='Capacity',y='Ram',data=SP,kind='scatter')\n",
    "# Pair plot\n",
    "sb.pairplot(SP,hue='Name',palette=\"hls\")"
   ]
  },
  {
   "cell_type": "code",
   "execution_count": null,
   "metadata": {},
   "outputs": [],
   "source": []
  }
 ],
 "metadata": {
  "kernelspec": {
   "display_name": "Python 3",
   "language": "python",
   "name": "python3"
  },
  "language_info": {
   "codemirror_mode": {
    "name": "ipython",
    "version": 3
   },
   "file_extension": ".py",
   "mimetype": "text/x-python",
   "name": "python",
   "nbconvert_exporter": "python",
   "pygments_lexer": "ipython3",
   "version": "3.7.3"
  }
 },
 "nbformat": 4,
 "nbformat_minor": 2
}
