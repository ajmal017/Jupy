{
 "cells": [
  {
   "cell_type": "markdown",
   "metadata": {},
   "source": [
    "### Memory Management"
   ]
  },
  {
   "cell_type": "code",
   "execution_count": 1,
   "metadata": {},
   "outputs": [
    {
     "data": {
      "text/plain": [
       "140730425578592"
      ]
     },
     "execution_count": 1,
     "metadata": {},
     "output_type": "execute_result"
    }
   ],
   "source": [
    "#id is an integer which is guaranteed to be unique and constant for this object during its lifetime.\n",
    "x = 10\n",
    "id(x)"
   ]
  },
  {
   "cell_type": "code",
   "execution_count": 2,
   "metadata": {},
   "outputs": [
    {
     "name": "stdout",
     "output_type": "stream",
     "text": [
      "140732527842112\n",
      "140732527842144\n",
      "140732527842176\n",
      "32  ,  32\n"
     ]
    }
   ],
   "source": [
    "list = [1,2,3]\n",
    "print(id(list[0]))\n",
    "print(id(list[1]))\n",
    "print(id(list[2]))\n",
    "print(id(list[1])-id(list[0]), ' , ', id(list[2])-id(list[1]))"
   ]
  },
  {
   "cell_type": "markdown",
   "metadata": {},
   "source": [
    "### Syntax Format"
   ]
  },
  {
   "cell_type": "code",
   "execution_count": 2,
   "metadata": {},
   "outputs": [
    {
     "name": "stdout",
     "output_type": "stream",
     "text": [
      "357\n"
     ]
    }
   ],
   "source": [
    "# Multi-Line Statements\n",
    "biology_marks = 82\n",
    "physics_marks = 91\n",
    "maths_marks = 96\n",
    "chemistry_marks = 88\n",
    "total_marks = biology_marks + \\\n",
    "              physics_marks + \\\n",
    "              maths_marks + \\\n",
    "              chemistry_marks\n",
    "print (total_marks)"
   ]
  },
  {
   "cell_type": "code",
   "execution_count": null,
   "metadata": {},
   "outputs": [],
   "source": [
    "# One-line code\n",
    "\n",
    "# Seimicolon:Python does not require semi-colons to terminate statements.\n",
    "#Semi colons can be used to delimit statements if you wish to put multiple statements on the same line.\n",
    "if x < y < z: print x; print y; print z \n",
    "\n",
    "# exec()\n",
    "\n",
    "# print(*your_list)"
   ]
  },
  {
   "cell_type": "markdown",
   "metadata": {},
   "source": [
    "### Importing Modules"
   ]
  },
  {
   "cell_type": "code",
   "execution_count": 8,
   "metadata": {},
   "outputs": [
    {
     "data": {
      "text/plain": [
       "3.141592653589793"
      ]
     },
     "execution_count": 8,
     "metadata": {},
     "output_type": "execute_result"
    }
   ],
   "source": [
    "import math\n",
    "math.pi"
   ]
  },
  {
   "cell_type": "code",
   "execution_count": 9,
   "metadata": {},
   "outputs": [
    {
     "data": {
      "text/plain": [
       "2.0"
      ]
     },
     "execution_count": 9,
     "metadata": {},
     "output_type": "execute_result"
    }
   ],
   "source": [
    "from scipy import mean\n",
    "mean([1,2,3])"
   ]
  },
  {
   "cell_type": "code",
   "execution_count": 13,
   "metadata": {},
   "outputs": [
    {
     "data": {
      "text/plain": [
       "1.0"
      ]
     },
     "execution_count": 13,
     "metadata": {},
     "output_type": "execute_result"
    }
   ],
   "source": [
    "from numpy import *\n",
    "floor(1.2)"
   ]
  },
  {
   "cell_type": "code",
   "execution_count": null,
   "metadata": {},
   "outputs": [],
   "source": [
    "import numpy\n",
    "dir(numpy)"
   ]
  },
  {
   "cell_type": "markdown",
   "metadata": {},
   "source": [
    "When you install a Python library without a virtual environment, you are installing\n",
    "it globally. This usually requires that you be an administrator, or run as root, and that\n",
    "the Python library exists for every user and every project on the machine. If you intend to work on multiple Python projects, or you need a way to easily bundle\n",
    "projects with all associated libraries, or you’re worried about potential conflicts\n",
    "between installed libraries, you can install a Python virtual environment to keep\n",
    "everything separated and easy to manage."
   ]
  },
  {
   "cell_type": "markdown",
   "metadata": {},
   "source": [
    "### Data Structures"
   ]
  },
  {
   "cell_type": "code",
   "execution_count": 15,
   "metadata": {},
   "outputs": [
    {
     "data": {
      "text/plain": [
       "list"
      ]
     },
     "execution_count": 15,
     "metadata": {},
     "output_type": "execute_result"
    }
   ],
   "source": [
    "# Lists\n",
    "a = [1,2,3,4]\n",
    "type(a)\n",
    "# Methods: append, extend, insert, remove, pop, clear, index, count, sort, reverse, copy\n",
    "# Lists can be used as stacks or queues or graphs or trees -> Quantra"
   ]
  },
  {
   "cell_type": "code",
   "execution_count": 19,
   "metadata": {},
   "outputs": [
    {
     "name": "stdout",
     "output_type": "stream",
     "text": [
      "2\n"
     ]
    }
   ],
   "source": [
    "for i in range(len(a)):\n",
    "    if(a[i]==3):\n",
    "        print(a.index(a[i]))"
   ]
  },
  {
   "cell_type": "code",
   "execution_count": 18,
   "metadata": {},
   "outputs": [],
   "source": [
    "# Dictionaries\n",
    "# A dictionary in python has mapping betwens its \"keys\" and \"values\", so it is good for mapping.\n",
    "d = {1:123, 2:234}\n",
    "# Methods: keys, values, pop, clear"
   ]
  },
  {
   "cell_type": "code",
   "execution_count": 20,
   "metadata": {},
   "outputs": [],
   "source": [
    "# Tuples\n",
    "b = (1, 2, \"H\")\n",
    "# Methods: index, count"
   ]
  },
  {
   "cell_type": "code",
   "execution_count": 28,
   "metadata": {},
   "outputs": [
    {
     "name": "stdout",
     "output_type": "stream",
     "text": [
      "{1, 2, 3, 4, 5, 6, 7} \n",
      " {'H', 'o', 'e', 'l'} \n",
      " {1, 2, 3, 4}\n"
     ]
    }
   ],
   "source": [
    "# Sets\n",
    "c1 = {1,2,3,4,5,6,7}\n",
    "c2 = set(\"Hello\")\n",
    "c3 = set([1,3,2,4]) # It is unordered.\n",
    "print(c1,'\\n', c2,'\\n', c3)\n",
    "# Methods: union, intersection, difference, isdisjoint, issubset, issuperset, add, discard, pop, copy, clear"
   ]
  }
 ],
 "metadata": {
  "kernelspec": {
   "display_name": "Python 3",
   "language": "python",
   "name": "python3"
  },
  "language_info": {
   "codemirror_mode": {
    "name": "ipython",
    "version": 3
   },
   "file_extension": ".py",
   "mimetype": "text/x-python",
   "name": "python",
   "nbconvert_exporter": "python",
   "pygments_lexer": "ipython3",
   "version": "3.7.3"
  }
 },
 "nbformat": 4,
 "nbformat_minor": 2
}
