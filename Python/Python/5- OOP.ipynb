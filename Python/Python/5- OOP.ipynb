{
 "cells": [
  {
   "cell_type": "markdown",
   "metadata": {},
   "source": [
    "4 features of OOP:\n",
    "    1 - Encapsulasion: to group functions and variables that are related to each other.\n",
    "    2 - Abstraction: to hide the details and show the essentials.\n",
    "    3 - Inheritance: e"
   ]
  },
  {
   "cell_type": "markdown",
   "metadata": {},
   "source": [
    "    Namespace: where the names of the variables are unique\n",
    "    Attribute: anything after \".\". For example,  a.add. Attributes can be writable or just read-only."
   ]
  },
  {
   "cell_type": "code",
   "execution_count": 8,
   "metadata": {},
   "outputs": [
    {
     "name": "stdout",
     "output_type": "stream",
     "text": [
      "In \"test_local\" function: Local Message\n",
      "Message\n",
      "In \"test_nonlocal\" function: Non-Local Message\n",
      "Non-Local Message\n",
      "In \"test_global\" function: Global Message\n",
      "Non-Local Message\n",
      "Global Message\n"
     ]
    }
   ],
   "source": [
    "# Scope\n",
    "def f():\n",
    "    # non-local scope for inner functions\n",
    "\n",
    "    msg = \"Message\"\n",
    "\n",
    "    def test_local():\n",
    "        msg = \"Local Message\"\n",
    "        print(\"In \\\"test_local\\\" function: \" + msg)\n",
    "\n",
    "    def test_nonlocal():\n",
    "        nonlocal msg\n",
    "        msg = \"Non-Local Message\"\n",
    "        print(\"In \\\"test_nonlocal\\\" function: \" + msg)\n",
    "\n",
    "    def test_global():\n",
    "        global msg\n",
    "        msg = \"Global Message\"\n",
    "        print(\"In \\\"test_global\\\" function: \" + msg)\n",
    "\n",
    "    test_local()\n",
    "    print(msg)\n",
    "    test_nonlocal()\n",
    "    print(msg)\n",
    "    test_global()\n",
    "    print(msg)\n",
    "\n",
    "f()\n",
    "print(msg)"
   ]
  },
  {
   "cell_type": "markdown",
   "metadata": {},
   "source": [
    "# Classes"
   ]
  },
  {
   "cell_type": "code",
   "execution_count": 9,
   "metadata": {},
   "outputs": [],
   "source": [
    "class Person:\n",
    "    pass"
   ]
  },
  {
   "cell_type": "code",
   "execution_count": 16,
   "metadata": {},
   "outputs": [],
   "source": [
    "p1 = Person()"
   ]
  },
  {
   "cell_type": "code",
   "execution_count": 17,
   "metadata": {},
   "outputs": [
    {
     "name": "stdout",
     "output_type": "stream",
     "text": [
      "<class '__main__.Person'>\n",
      "<class 'type'>\n"
     ]
    }
   ],
   "source": [
    "print(type(p1))\n",
    "print(type(Person))"
   ]
  },
  {
   "cell_type": "code",
   "execution_count": 21,
   "metadata": {},
   "outputs": [
    {
     "name": "stdout",
     "output_type": "stream",
     "text": [
      "Sedigheh 30\n"
     ]
    }
   ],
   "source": [
    "# defining two properties for the class\n",
    "# properties are the variables of the class\n",
    "p1.name = \"Sedigheh\"\n",
    "p1.age = 30\n",
    "print(p1.name, p1.age)"
   ]
  },
  {
   "cell_type": "code",
   "execution_count": 22,
   "metadata": {},
   "outputs": [],
   "source": [
    "# defining methods for the class\n",
    "# methods can change the properties of the class\n",
    "class Game:\n",
    "    def set_money(self, x):\n",
    "        self.money=x\n",
    "    def get_money(self):\n",
    "        return self.money\n",
    "        "
   ]
  },
  {
   "cell_type": "code",
   "execution_count": 23,
   "metadata": {},
   "outputs": [],
   "source": [
    "g = Game()\n",
    "g.set_money(4)"
   ]
  },
  {
   "cell_type": "code",
   "execution_count": 26,
   "metadata": {},
   "outputs": [
    {
     "name": "stdout",
     "output_type": "stream",
     "text": [
      "4\n"
     ]
    }
   ],
   "source": [
    "print(g.get_money())"
   ]
  },
  {
   "cell_type": "code",
   "execution_count": 27,
   "metadata": {},
   "outputs": [],
   "source": [
    "#Constructor\n",
    "class Person:\n",
    "    def __init__(self, name, age=18):\n",
    "        self.name = name\n",
    "        self.age = age"
   ]
  },
  {
   "cell_type": "code",
   "execution_count": 29,
   "metadata": {},
   "outputs": [
    {
     "name": "stdout",
     "output_type": "stream",
     "text": [
      "Sedigheh 30\n"
     ]
    }
   ],
   "source": [
    "p2 = Person(\"Sedigheh\", 30)\n",
    "print(p2.name, p2.age)"
   ]
  },
  {
   "cell_type": "code",
   "execution_count": 30,
   "metadata": {},
   "outputs": [
    {
     "name": "stdout",
     "output_type": "stream",
     "text": [
      "Sima 18\n"
     ]
    }
   ],
   "source": [
    "p3 = Person(\"Sima\")\n",
    "print(p3.name, p3.age)"
   ]
  },
  {
   "cell_type": "code",
   "execution_count": 31,
   "metadata": {},
   "outputs": [],
   "source": [
    "# Static variables\n",
    "class Game:\n",
    "    goal_money = 3000 #static variable\n",
    "\n",
    "    def set_money(self, x):\n",
    "        self.money = x\n",
    "\n",
    "    def get_money(self):\n",
    "        return self.money"
   ]
  },
  {
   "cell_type": "code",
   "execution_count": 32,
   "metadata": {},
   "outputs": [
    {
     "name": "stdout",
     "output_type": "stream",
     "text": [
      "Game.goal_money: 3000\n",
      "Game.max_people_count: 20\n",
      "game.goal_money: 2000\n",
      "Game.goal_money: 3000\n",
      "game.goal_money: 3000\n"
     ]
    }
   ],
   "source": [
    "print(\"Game.goal_money:\", Game.goal_money)\n",
    "Game.max_people_count = 20\n",
    "print(\"Game.max_people_count:\", Game.max_people_count)\n",
    "game = Game()\n",
    "game.goal_money = 2000\n",
    "print(\"game.goal_money:\", game.goal_money)\n",
    "print(\"Game.goal_money:\", Game.goal_money)\n",
    "del game.goal_money\n",
    "print(\"game.goal_money:\", game.goal_money)"
   ]
  },
  {
   "cell_type": "code",
   "execution_count": 33,
   "metadata": {},
   "outputs": [],
   "source": [
    "# Static Method\n",
    "class Sample:\n",
    "    goal_money = 3000\n",
    "\n",
    "    def __init__(self):\n",
    "        pass    \n",
    "\n",
    "    @staticmethod \n",
    "    def increase_goal_money(value):\n",
    "        Sample.goal_money += value"
   ]
  },
  {
   "cell_type": "code",
   "execution_count": 34,
   "metadata": {},
   "outputs": [
    {
     "name": "stdout",
     "output_type": "stream",
     "text": [
      "3000\n",
      "3100\n"
     ]
    }
   ],
   "source": [
    "sample = Sample()\n",
    "print(Sample.goal_money)\n",
    "Sample.increase_goal_money(100)\n",
    "print(sample.goal_money)"
   ]
  },
  {
   "cell_type": "code",
   "execution_count": 35,
   "metadata": {},
   "outputs": [],
   "source": [
    "# Private variables\n",
    "#encapsulation in oop: No other classes have access to our class\n",
    "class Sample:\n",
    "    def __init__(self, x):\n",
    "        self.__x = x\n",
    "\n",
    "    def get_x(self):\n",
    "        return self.__x\n",
    "\n",
    "    def set_x(self, x):\n",
    "        self.__x = x"
   ]
  },
  {
   "cell_type": "code",
   "execution_count": 36,
   "metadata": {},
   "outputs": [
    {
     "name": "stdout",
     "output_type": "stream",
     "text": [
      "2\n",
      "20\n"
     ]
    },
    {
     "ename": "AttributeError",
     "evalue": "'Sample' object has no attribute '__x'",
     "output_type": "error",
     "traceback": [
      "\u001b[1;31m---------------------------------------------------------------------------\u001b[0m",
      "\u001b[1;31mAttributeError\u001b[0m                            Traceback (most recent call last)",
      "\u001b[1;32m<ipython-input-36-14acca630c86>\u001b[0m in \u001b[0;36m<module>\u001b[1;34m\u001b[0m\n\u001b[0;32m      3\u001b[0m \u001b[0msample\u001b[0m\u001b[1;33m.\u001b[0m\u001b[0mset_x\u001b[0m\u001b[1;33m(\u001b[0m\u001b[1;36m20\u001b[0m\u001b[1;33m)\u001b[0m\u001b[1;33m\u001b[0m\u001b[1;33m\u001b[0m\u001b[0m\n\u001b[0;32m      4\u001b[0m \u001b[0mprint\u001b[0m\u001b[1;33m(\u001b[0m\u001b[0msample\u001b[0m\u001b[1;33m.\u001b[0m\u001b[0mget_x\u001b[0m\u001b[1;33m(\u001b[0m\u001b[1;33m)\u001b[0m\u001b[1;33m)\u001b[0m\u001b[1;33m\u001b[0m\u001b[1;33m\u001b[0m\u001b[0m\n\u001b[1;32m----> 5\u001b[1;33m \u001b[0mprint\u001b[0m\u001b[1;33m(\u001b[0m\u001b[0msample\u001b[0m\u001b[1;33m.\u001b[0m\u001b[0m__x\u001b[0m\u001b[1;33m)\u001b[0m\u001b[1;33m\u001b[0m\u001b[1;33m\u001b[0m\u001b[0m\n\u001b[0m",
      "\u001b[1;31mAttributeError\u001b[0m: 'Sample' object has no attribute '__x'"
     ]
    }
   ],
   "source": [
    "sample = Sample(2)\n",
    "print(sample.get_x())\n",
    "sample.set_x(20)\n",
    "print(sample.get_x())\n",
    "print(sample.__x)"
   ]
  },
  {
   "cell_type": "code",
   "execution_count": null,
   "metadata": {},
   "outputs": [],
   "source": []
  }
 ],
 "metadata": {
  "kernelspec": {
   "display_name": "Python 3",
   "language": "python",
   "name": "python3"
  },
  "language_info": {
   "codemirror_mode": {
    "name": "ipython",
    "version": 3
   },
   "file_extension": ".py",
   "mimetype": "text/x-python",
   "name": "python",
   "nbconvert_exporter": "python",
   "pygments_lexer": "ipython3",
   "version": "3.7.3"
  }
 },
 "nbformat": 4,
 "nbformat_minor": 2
}
