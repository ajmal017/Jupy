{
 "cells": [
  {
   "cell_type": "code",
   "execution_count": 1,
   "metadata": {},
   "outputs": [],
   "source": [
    "import pandas as pd"
   ]
  },
  {
   "cell_type": "markdown",
   "metadata": {},
   "source": [
    "### Series"
   ]
  },
  {
   "cell_type": "code",
   "execution_count": 4,
   "metadata": {},
   "outputs": [
    {
     "data": {
      "text/plain": [
       "stock1    aapl\n",
       "stock2    amzn\n",
       "stock3    csco\n",
       "dtype: object"
      ]
     },
     "execution_count": 4,
     "metadata": {},
     "output_type": "execute_result"
    }
   ],
   "source": [
    "stocks = pd.Series(['aapl', 'amzn', 'csco'], index=['stock1', 'stock2', 'stock3'])\n",
    "stocks"
   ]
  },
  {
   "cell_type": "code",
   "execution_count": 5,
   "metadata": {},
   "outputs": [],
   "source": [
    "# Methods: index, values, isnull, dropna, fillna, apply"
   ]
  },
  {
   "cell_type": "markdown",
   "metadata": {},
   "source": [
    "### Data frames"
   ]
  },
  {
   "cell_type": "code",
   "execution_count": 37,
   "metadata": {},
   "outputs": [
    {
     "data": {
      "text/html": [
       "<div>\n",
       "<style scoped>\n",
       "    .dataframe tbody tr th:only-of-type {\n",
       "        vertical-align: middle;\n",
       "    }\n",
       "\n",
       "    .dataframe tbody tr th {\n",
       "        vertical-align: top;\n",
       "    }\n",
       "\n",
       "    .dataframe thead th {\n",
       "        text-align: right;\n",
       "    }\n",
       "</style>\n",
       "<table border=\"1\" class=\"dataframe\">\n",
       "  <thead>\n",
       "    <tr style=\"text-align: right;\">\n",
       "      <th></th>\n",
       "      <th>stock name</th>\n",
       "      <th>quantity owned</th>\n",
       "      <th>average buy price</th>\n",
       "    </tr>\n",
       "  </thead>\n",
       "  <tbody>\n",
       "    <tr>\n",
       "      <th>0</th>\n",
       "      <td>Alphabet</td>\n",
       "      <td>1564</td>\n",
       "      <td>$950</td>\n",
       "    </tr>\n",
       "    <tr>\n",
       "      <th>1</th>\n",
       "      <td>Facebook</td>\n",
       "      <td>6546</td>\n",
       "      <td>$160</td>\n",
       "    </tr>\n",
       "    <tr>\n",
       "      <th>2</th>\n",
       "      <td>Apple</td>\n",
       "      <td>5464</td>\n",
       "      <td>$120</td>\n",
       "    </tr>\n",
       "    <tr>\n",
       "      <th>3</th>\n",
       "      <td>Tesla</td>\n",
       "      <td>6513</td>\n",
       "      <td>$270</td>\n",
       "    </tr>\n",
       "    <tr>\n",
       "      <th>4</th>\n",
       "      <td>Infosys</td>\n",
       "      <td>4155</td>\n",
       "      <td>$15</td>\n",
       "    </tr>\n",
       "  </tbody>\n",
       "</table>\n",
       "</div>"
      ],
      "text/plain": [
       "  stock name  quantity owned average buy price\n",
       "0   Alphabet            1564              $950\n",
       "1   Facebook            6546              $160\n",
       "2      Apple            5464              $120\n",
       "3      Tesla            6513              $270\n",
       "4    Infosys            4155               $15"
      ]
     },
     "execution_count": 37,
     "metadata": {},
     "output_type": "execute_result"
    }
   ],
   "source": [
    "data = pd.DataFrame({\"stock name\": [\"Alphabet\", \"Facebook\", \"Apple\", \"Tesla\", \"Infosys\"],\n",
    "                \"quantity owned\": [1564, 6546, 5464, 6513, 4155],\n",
    "                \"average buy price\": [\"$950\", \"$160\", \"$120\", \"$270\", \"$15\"]})\n",
    "data"
   ]
  },
  {
   "cell_type": "code",
   "execution_count": 9,
   "metadata": {},
   "outputs": [],
   "source": [
    "# Methods: index, reindex, reset_index, columns, drop, head, rename, sort_values, count, min, max, mean,\n",
    "#          diff, pct_change, var, rolling_mean, expanding_mean, cov, corr, kurt, skew, replace, \n",
    "#          sort_index, sort_values"
   ]
  },
  {
   "cell_type": "code",
   "execution_count": null,
   "metadata": {},
   "outputs": [],
   "source": [
    "# Reading files\n",
    "data2 = pd.read_csv('path')"
   ]
  },
  {
   "cell_type": "code",
   "execution_count": 38,
   "metadata": {},
   "outputs": [
    {
     "data": {
      "text/html": [
       "<div>\n",
       "<style scoped>\n",
       "    .dataframe tbody tr th:only-of-type {\n",
       "        vertical-align: middle;\n",
       "    }\n",
       "\n",
       "    .dataframe tbody tr th {\n",
       "        vertical-align: top;\n",
       "    }\n",
       "\n",
       "    .dataframe thead th {\n",
       "        text-align: right;\n",
       "    }\n",
       "</style>\n",
       "<table border=\"1\" class=\"dataframe\">\n",
       "  <thead>\n",
       "    <tr style=\"text-align: right;\">\n",
       "      <th></th>\n",
       "      <th>stock name</th>\n",
       "      <th>quantity owned</th>\n",
       "      <th>average buy price</th>\n",
       "    </tr>\n",
       "  </thead>\n",
       "  <tbody>\n",
       "    <tr>\n",
       "      <th>0</th>\n",
       "      <td>Alphabet</td>\n",
       "      <td>1564.00</td>\n",
       "      <td>$950</td>\n",
       "    </tr>\n",
       "    <tr>\n",
       "      <th>1</th>\n",
       "      <td>Facebook</td>\n",
       "      <td>6546.00</td>\n",
       "      <td>$160</td>\n",
       "    </tr>\n",
       "    <tr>\n",
       "      <th>2</th>\n",
       "      <td>Apple</td>\n",
       "      <td>5464.00</td>\n",
       "      <td>$120</td>\n",
       "    </tr>\n",
       "    <tr>\n",
       "      <th>3</th>\n",
       "      <td>Tesla</td>\n",
       "      <td>6513.00</td>\n",
       "      <td>$270</td>\n",
       "    </tr>\n",
       "    <tr>\n",
       "      <th>4</th>\n",
       "      <td>Infosys</td>\n",
       "      <td>4155.00</td>\n",
       "      <td>$15</td>\n",
       "    </tr>\n",
       "  </tbody>\n",
       "</table>\n",
       "</div>"
      ],
      "text/plain": [
       "  stock name quantity owned average buy price\n",
       "0   Alphabet        1564.00              $950\n",
       "1   Facebook        6546.00              $160\n",
       "2      Apple        5464.00              $120\n",
       "3      Tesla        6513.00              $270\n",
       "4    Infosys        4155.00               $15"
      ]
     },
     "execution_count": 38,
     "metadata": {},
     "output_type": "execute_result"
    }
   ],
   "source": [
    "# apply()\n",
    "data['quantity owned'] = data['quantity owned'].apply(lambda x:'{:.2f}'.format(x))"
   ]
  },
  {
   "cell_type": "code",
   "execution_count": 15,
   "metadata": {},
   "outputs": [
    {
     "name": "stdout",
     "output_type": "stream",
     "text": [
      "0    Alphabet\n",
      "1    Facebook\n",
      "2       Apple\n",
      "3       Tesla\n",
      "4     Infosys\n",
      "Name: stock name, dtype: object\n",
      "-------------------\n",
      "stock name           Alphabet\n",
      "quantity owned           1564\n",
      "average buy price        $950\n",
      "Name: 0, dtype: object\n"
     ]
    }
   ],
   "source": [
    "# Indexing\n",
    "print(data.loc[:, 'stock name'])# a 'label-location' based indexer)\n",
    "print('-------------------')    \n",
    "print(data.iloc[0, :])"
   ]
  },
  {
   "cell_type": "code",
   "execution_count": null,
   "metadata": {},
   "outputs": [],
   "source": [
    "# Missing Values: isnull, notnull, fillna, dropna"
   ]
  },
  {
   "cell_type": "markdown",
   "metadata": {},
   "source": [
    "### Group By"
   ]
  },
  {
   "cell_type": "code",
   "execution_count": 17,
   "metadata": {},
   "outputs": [
    {
     "data": {
      "text/html": [
       "<div>\n",
       "<style scoped>\n",
       "    .dataframe tbody tr th:only-of-type {\n",
       "        vertical-align: middle;\n",
       "    }\n",
       "\n",
       "    .dataframe tbody tr th {\n",
       "        vertical-align: top;\n",
       "    }\n",
       "\n",
       "    .dataframe thead th {\n",
       "        text-align: right;\n",
       "    }\n",
       "</style>\n",
       "<table border=\"1\" class=\"dataframe\">\n",
       "  <thead>\n",
       "    <tr style=\"text-align: right;\">\n",
       "      <th></th>\n",
       "      <th>Sector</th>\n",
       "      <th>Company</th>\n",
       "      <th>MarketCap</th>\n",
       "      <th>Share Price</th>\n",
       "      <th>Amount Invested</th>\n",
       "    </tr>\n",
       "  </thead>\n",
       "  <tbody>\n",
       "    <tr>\n",
       "      <th>0</th>\n",
       "      <td>IT</td>\n",
       "      <td>Infosys</td>\n",
       "      <td>Large Cap</td>\n",
       "      <td>1120</td>\n",
       "      <td>24000</td>\n",
       "    </tr>\n",
       "    <tr>\n",
       "      <th>1</th>\n",
       "      <td>FMCG</td>\n",
       "      <td>Dabur</td>\n",
       "      <td>Large Cap</td>\n",
       "      <td>341</td>\n",
       "      <td>16000</td>\n",
       "    </tr>\n",
       "    <tr>\n",
       "      <th>2</th>\n",
       "      <td>Finance</td>\n",
       "      <td>DHFL</td>\n",
       "      <td>Mid Cap</td>\n",
       "      <td>610</td>\n",
       "      <td>50000</td>\n",
       "    </tr>\n",
       "    <tr>\n",
       "      <th>3</th>\n",
       "      <td>Pharma</td>\n",
       "      <td>Divis Lab</td>\n",
       "      <td>Mid Cap</td>\n",
       "      <td>1123</td>\n",
       "      <td>23000</td>\n",
       "    </tr>\n",
       "    <tr>\n",
       "      <th>4</th>\n",
       "      <td>Pharma</td>\n",
       "      <td>Lupin</td>\n",
       "      <td>Mid Cap</td>\n",
       "      <td>741</td>\n",
       "      <td>45000</td>\n",
       "    </tr>\n",
       "    <tr>\n",
       "      <th>5</th>\n",
       "      <td>FMCG</td>\n",
       "      <td>Ruchira Papers</td>\n",
       "      <td>Small Cap</td>\n",
       "      <td>185</td>\n",
       "      <td>12000</td>\n",
       "    </tr>\n",
       "    <tr>\n",
       "      <th>6</th>\n",
       "      <td>FMCG</td>\n",
       "      <td>Britianna</td>\n",
       "      <td>Mid Cap</td>\n",
       "      <td>5351</td>\n",
       "      <td>52000</td>\n",
       "    </tr>\n",
       "    <tr>\n",
       "      <th>7</th>\n",
       "      <td>IT</td>\n",
       "      <td>Persistent Systems</td>\n",
       "      <td>Small Cap</td>\n",
       "      <td>720</td>\n",
       "      <td>18000</td>\n",
       "    </tr>\n",
       "    <tr>\n",
       "      <th>8</th>\n",
       "      <td>Finance</td>\n",
       "      <td>Bajaj Finance</td>\n",
       "      <td>Large Cap</td>\n",
       "      <td>1937</td>\n",
       "      <td>5000</td>\n",
       "    </tr>\n",
       "    <tr>\n",
       "      <th>9</th>\n",
       "      <td>Real Estate</td>\n",
       "      <td>DLF</td>\n",
       "      <td>Mid Cap</td>\n",
       "      <td>217</td>\n",
       "      <td>3500</td>\n",
       "    </tr>\n",
       "  </tbody>\n",
       "</table>\n",
       "</div>"
      ],
      "text/plain": [
       "        Sector             Company  MarketCap  Share Price  Amount Invested\n",
       "0           IT             Infosys  Large Cap         1120            24000\n",
       "1         FMCG               Dabur  Large Cap          341            16000\n",
       "2      Finance                DHFL    Mid Cap          610            50000\n",
       "3       Pharma           Divis Lab    Mid Cap         1123            23000\n",
       "4       Pharma               Lupin    Mid Cap          741            45000\n",
       "5         FMCG      Ruchira Papers  Small Cap          185            12000\n",
       "6         FMCG           Britianna    Mid Cap         5351            52000\n",
       "7           IT  Persistent Systems  Small Cap          720            18000\n",
       "8      Finance       Bajaj Finance  Large Cap         1937             5000\n",
       "9  Real Estate                 DLF    Mid Cap          217             3500"
      ]
     },
     "execution_count": 17,
     "metadata": {},
     "output_type": "execute_result"
    }
   ],
   "source": [
    "my_portfolio = {'Sector': ['IT', 'FMCG', 'Finance', 'Pharma', 'Pharma',\n",
    "                          'FMCG', 'FMCG', 'IT', 'Finance', 'Real Estate'],\n",
    "            \n",
    "            'Company':   ['Infosys', 'Dabur', 'DHFL', 'Divis Lab', 'Lupin',\n",
    "                         'Ruchira Papers', 'Britianna','Persistent Systems','Bajaj Finance', 'DLF'],\n",
    "            \n",
    "            'MarketCap': ['Large Cap','Large Cap','Mid Cap','Mid Cap','Mid Cap',\n",
    "                         'Small Cap','Mid Cap','Small Cap','Large Cap','Mid Cap'],\n",
    "            \n",
    "            'Share Price': [1120,341,610,1123,741,185,5351,720,1937,217],\n",
    "                \n",
    "            'Amount Invested': [24000,16000,50000,23000,45000,12000,52000,18000,5000,3500]}\n",
    "\n",
    "mp = pd.DataFrame(my_portfolio)\n",
    "mp"
   ]
  },
  {
   "cell_type": "code",
   "execution_count": 20,
   "metadata": {},
   "outputs": [
    {
     "name": "stdout",
     "output_type": "stream",
     "text": [
      "{'FMCG': Int64Index([1, 5, 6], dtype='int64'), 'Finance': Int64Index([2, 8], dtype='int64'), 'IT': Int64Index([0, 7], dtype='int64'), 'Pharma': Int64Index([3, 4], dtype='int64'), 'Real Estate': Int64Index([9], dtype='int64')}\n"
     ]
    }
   ],
   "source": [
    "# View Groups\n",
    "print (mp.groupby('Sector').groups)"
   ]
  },
  {
   "cell_type": "code",
   "execution_count": 22,
   "metadata": {},
   "outputs": [
    {
     "name": "stdout",
     "output_type": "stream",
     "text": [
      "FMCG\n",
      "  Sector         Company  MarketCap  Share Price  Amount Invested\n",
      "1   FMCG           Dabur  Large Cap          341            16000\n",
      "5   FMCG  Ruchira Papers  Small Cap          185            12000\n",
      "6   FMCG       Britianna    Mid Cap         5351            52000\n",
      "Finance\n",
      "    Sector        Company  MarketCap  Share Price  Amount Invested\n",
      "2  Finance           DHFL    Mid Cap          610            50000\n",
      "8  Finance  Bajaj Finance  Large Cap         1937             5000\n",
      "IT\n",
      "  Sector             Company  MarketCap  Share Price  Amount Invested\n",
      "0     IT             Infosys  Large Cap         1120            24000\n",
      "7     IT  Persistent Systems  Small Cap          720            18000\n",
      "Pharma\n",
      "   Sector    Company MarketCap  Share Price  Amount Invested\n",
      "3  Pharma  Divis Lab   Mid Cap         1123            23000\n",
      "4  Pharma      Lupin   Mid Cap          741            45000\n",
      "Real Estate\n",
      "        Sector Company MarketCap  Share Price  Amount Invested\n",
      "9  Real Estate     DLF   Mid Cap          217             3500\n"
     ]
    }
   ],
   "source": [
    "# A better way to visualise\n",
    "grouped = mp.groupby('Sector')\n",
    "for name,group in grouped: \n",
    "    print (name)\n",
    "    print (group)"
   ]
  },
  {
   "cell_type": "code",
   "execution_count": 23,
   "metadata": {},
   "outputs": [
    {
     "name": "stdout",
     "output_type": "stream",
     "text": [
      "        Sector    Company MarketCap  Share Price  Amount Invested\n",
      "2      Finance       DHFL   Mid Cap          610            50000\n",
      "3       Pharma  Divis Lab   Mid Cap         1123            23000\n",
      "4       Pharma      Lupin   Mid Cap          741            45000\n",
      "6         FMCG  Britianna   Mid Cap         5351            52000\n",
      "9  Real Estate        DLF   Mid Cap          217             3500\n"
     ]
    }
   ],
   "source": [
    "# Select a group\n",
    "grouped = mp.groupby('MarketCap')\n",
    "print (grouped.get_group('Mid Cap'))"
   ]
  },
  {
   "cell_type": "code",
   "execution_count": 27,
   "metadata": {},
   "outputs": [
    {
     "name": "stdout",
     "output_type": "stream",
     "text": [
      "              sum   mean\n",
      "MarketCap               \n",
      "Large Cap   45000  15000\n",
      "Mid Cap    173500  34700\n",
      "Small Cap   30000  15000\n"
     ]
    }
   ],
   "source": [
    "# Aggregations\n",
    "import numpy as np\n",
    "print (grouped['Amount Invested'].agg([np.sum, np.mean]))"
   ]
  },
  {
   "cell_type": "code",
   "execution_count": 28,
   "metadata": {},
   "outputs": [
    {
     "name": "stdout",
     "output_type": "stream",
     "text": [
      "   Share Price  Amount Invested\n",
      "0    -0.015872         0.943456\n",
      "1    -0.991970         0.104828\n",
      "2    -0.471596         0.731522\n",
      "3    -0.229280        -0.559399\n",
      "4    -0.409718         0.492462\n",
      "5    -0.707107        -0.707107\n",
      "6     1.767825         0.827145\n",
      "7     0.707107         0.707107\n",
      "8     1.007841        -1.048285\n",
      "9    -0.657231        -1.491731\n"
     ]
    }
   ],
   "source": [
    "# Transformations\n",
    "z_score = lambda x: (x - x.mean()) / x.std()\n",
    "print (grouped.transform(z_score))"
   ]
  },
  {
   "cell_type": "code",
   "execution_count": 29,
   "metadata": {},
   "outputs": [
    {
     "name": "stdout",
     "output_type": "stream",
     "text": [
      "        Sector        Company  MarketCap  Share Price  Amount Invested\n",
      "0           IT        Infosys  Large Cap         1120            24000\n",
      "1         FMCG          Dabur  Large Cap          341            16000\n",
      "2      Finance           DHFL    Mid Cap          610            50000\n",
      "3       Pharma      Divis Lab    Mid Cap         1123            23000\n",
      "4       Pharma          Lupin    Mid Cap          741            45000\n",
      "6         FMCG      Britianna    Mid Cap         5351            52000\n",
      "8      Finance  Bajaj Finance  Large Cap         1937             5000\n",
      "9  Real Estate            DLF    Mid Cap          217             3500\n"
     ]
    }
   ],
   "source": [
    "# Filteration\n",
    "print (mp.groupby('MarketCap').filter(lambda x: len(x)>= 3))"
   ]
  },
  {
   "cell_type": "code",
   "execution_count": 32,
   "metadata": {},
   "outputs": [
    {
     "name": "stdout",
     "output_type": "stream",
     "text": [
      "Empty DataFrame\n",
      "Columns: [id_x, Company, Sector, id_y]\n",
      "Index: []\n"
     ]
    }
   ],
   "source": [
    "# Merging/Joining\n",
    "left_df = pd.DataFrame({\n",
    "         'id':[1,2,3,4,5],\n",
    "         'Company': ['Infosys', 'SBI', 'Asian Paints', 'Maruti', 'Sun Pharma'],\n",
    "         'Sector':['IT','Banks','Paints and Varnishes','Auto','Pharma']})\n",
    "\n",
    "right_df = pd.DataFrame(\n",
    "         {'id':[1,2,3,4,5],\n",
    "         'Company': ['NTPC', 'TCS', 'Lupin', 'ICICI', 'M&M'],\n",
    "         'Sector':['Power','IT','Pharma','Banks','Auto']})\n",
    "\n",
    "print(pd.merge(left_df,right_df,on=['Sector','Company']))"
   ]
  },
  {
   "cell_type": "code",
   "execution_count": 33,
   "metadata": {},
   "outputs": [
    {
     "name": "stdout",
     "output_type": "stream",
     "text": [
      "   id_x     Company_x                Sector  id_y Company_y\n",
      "0     1       Infosys                    IT   2.0       TCS\n",
      "1     2           SBI                 Banks   4.0     ICICI\n",
      "2     3  Asian Paints  Paints and Varnishes   NaN       NaN\n",
      "3     4        Maruti                  Auto   5.0       M&M\n",
      "4     5    Sun Pharma                Pharma   3.0     Lupin\n"
     ]
    }
   ],
   "source": [
    "# Merge using 'how' argument\n",
    "print (pd.merge(left_df, right_df, on='Sector', how='left'))"
   ]
  },
  {
   "cell_type": "code",
   "execution_count": 34,
   "metadata": {},
   "outputs": [
    {
     "name": "stdout",
     "output_type": "stream",
     "text": [
      "     id       Company                Sector\n",
      "x 0   1       Infosys                    IT\n",
      "  1   2           SBI                 Banks\n",
      "  2   3  Asian Paints  Paints and Varnishes\n",
      "  3   4        Maruti                  Auto\n",
      "  4   5    Sun Pharma                Pharma\n",
      "y 0   1          NTPC                 Power\n",
      "  1   2           TCS                    IT\n",
      "  2   3         Lupin                Pharma\n",
      "  3   4         ICICI                 Banks\n",
      "  4   5           M&M                  Auto\n"
     ]
    }
   ],
   "source": [
    "# Concatenation\n",
    "print (pd.concat([left_df, right_df],keys=['x','y']))"
   ]
  }
 ],
 "metadata": {
  "kernelspec": {
   "display_name": "Python 3",
   "language": "python",
   "name": "python3"
  },
  "language_info": {
   "codemirror_mode": {
    "name": "ipython",
    "version": 3
   },
   "file_extension": ".py",
   "mimetype": "text/x-python",
   "name": "python",
   "nbconvert_exporter": "python",
   "pygments_lexer": "ipython3",
   "version": "3.7.3"
  }
 },
 "nbformat": 4,
 "nbformat_minor": 2
}
