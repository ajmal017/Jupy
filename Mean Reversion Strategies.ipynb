{
 "cells": [
  {
   "cell_type": "markdown",
   "metadata": {},
   "source": [
    "When you believed that a technology stock is trading cheap due to short-term factors such as loss of client or resignation of CEO and you thought that these factors will fade away soon and the stock will trade much higher in future. So, you bought that stock. This is the principle behind mean reversion strategies. \n",
    "\n",
    "\n",
    "The mean reversion principles can be applied to fundamental factors such as buying a stock with low PE and expecting the PE to rise to historic average PE or industry PE.  This approach is commonly followed by a value investor to buy the stock for long-term investments. Similarly, these principles can be applied using technical indicators to create a short-term mean reversion trading strategies. These strategies are typically used by hedge funds."
   ]
  },
  {
   "cell_type": "markdown",
   "metadata": {},
   "source": [
    "Let’s see **building blocks of a simple mean reversion strategy**: buy low and sell high. The strategy is built using three steps as shown below.\n",
    "\n",
    "1. Calculate mean: A price is expected to stay around the mean. The mean can be calculated using simple moving average or exponential moving average.\n",
    "2. Determine entry points: This is the most critical step in mean reversion strategy. Here you determine the entry points for your strategy, that is, you quantify significant deviation. This value can be set to +/- 2 * standard deviations from mean or to +/-5% of mean value.\n",
    "3. Place the orders"
   ]
  },
  {
   "cell_type": "markdown",
   "metadata": {},
   "source": [
    "An Important point to note is that the mean reversion strategy will only work on a range bound or stationary stock price series. The strategy will not work on a stock price series which trends higher or trends lower for long period of time. To check if price series is stationary or not a statistical technique called as augmented Dickey-Fuller (ADF) test is the most commonly used. Unfortunately, most stocks price series are not stationary. But fortunately, we can create a portfolio of stocks such that market value of that portfolio is stationary and implement a profitable mean reversion trading strategy on that portfolio. This forms the basis on which pairs trading, triplet trading, index arbitrage and long-short portfolio trading strategies are built. "
   ]
  },
  {
   "cell_type": "markdown",
   "metadata": {},
   "source": [
    " A stochastic process is said to be stationary if its mean and variance are time invariant (constant over time). A stationary time series will be mean reverting in nature, i.e. it will tend to return to its mean and fluctuations around the mean will have roughly equal amplitudes. A stationary time series will not drift too far away from its mean because of its finite constant variance. "
   ]
  },
  {
   "cell_type": "markdown",
   "metadata": {},
   "source": [
    "A non-stationary time series can be converted into a stationary time series by either differencing or detrending the data. A random walk (the movements of an object or changes in a variable that follow no discernible pattern or trend) can be transformed into a stationary series by differencing (computing the difference between Yt and Yt -1). The disadvantage of this process is that it results in losing one observation each time the difference is computed. A non-stationary time series with a deterministic trend can be converted into a stationary time series by detrending (removing the trend). Detrending does not result in loss of observations. A linear combination of two non-stationary time series can also result in a stationary, mean-reverting time series. The time series (integrated of at least order 1), which can be linearly combined to result in a stationary time series are said to be cointegrated.\n",
    "\n",
    "A non-stationary time series with a deterministic trend (Yt = α + βt + εt) => detrended stationary time series (Yt – βt = α + εt) "
   ]
  },
  {
   "cell_type": "markdown",
   "metadata": {},
   "source": [
    " This strategy looks too good to be true and it is, it faces **severe obstacles**. The lookback period of the moving average might contain a few abnormal prices which are not characteristic to the dataset, this will cause the moving average to misrepresent the security’s trend or the reversal of a trend. Secondly, it might be evident that the security is overpriced as per the trader’s statistical analysis, yet he cannot be sure that other traders have made the exact same analysis. Because other traders don’t see the security to be overpriced, they would continue buying the security which would push the prices even higher. This strategy would result in losses if such a situation arises."
   ]
  },
  {
   "cell_type": "markdown",
   "metadata": {},
   "source": [
    "**Pairs Trading** is another strategy that relies on the principle of mean reversion trading. Two co-integrated securities are identified, the spread between the price of these securities would be stationary and hence mean reverting in nature. An extended version of Pairs Trading is called Statistical Arbitrage, where many co-integrated pairs are identified and split into buy and sell baskets based on the spreads of each pair. The first step in a Pairs Trading or Stat Arb model is to identify a pair of co-integrated securities. One of the commonly used tests for checking co-integration between a pair of securities is the Augmented Dickey-Fuller Test (ADF Test). It tests the null hypothesis of a unit root being present in a time series sample. A time series which has a unit root, i.e. 1 is a root of the series’ characteristic equation, is non-stationary. The augmented Dickey-Fuller statistic, also known as t-statistic, is a negative number. The more negative it is, the stronger the rejection of the null hypothesis that there is a unit root at some level of confidence, which would imply that the time series is stationary. The t-statistic is compared with a critical value parameter, if the t-statistic is less than the critical value parameter then the test is positive and the null hypothesis is rejected."
   ]
  },
  {
   "cell_type": "code",
   "execution_count": null,
   "metadata": {},
   "outputs": [],
   "source": [
    "### Co-integration check – ADF Test\n",
    "import statsmodels.api as stat\n",
    "import statsmodels.tsa.stattools as ts\n",
    "import quandl\n",
    "\n",
    "data1 = quandl.get()\n",
    "data2 = quandl.get()\n",
    "\n",
    "result = stat.OLS(data1['Close'], data2['Close']).fit()\n",
    "c_t = ts.adfuller(result.resid) #This array contains values like the t-statistic, p-value, and critical value parameters.\n",
    "\n",
    "if c_t[0]<=c_t[4]['10%'] and c_t[1]<=0.1:\n",
    "    print('Pair of securities is co-integrated')\n",
    "else:\n",
    "    print('Pair of securities is not co-integrated')"
   ]
  },
  {
   "cell_type": "markdown",
   "metadata": {},
   "source": [
    " Here, we consider a significance level of 0.1 (90% confidence level). “c_t[0]” carries the t-statistic, “c_t[1]” contains the p-value and “c_t[4]” stores a dictionary containing critical value parameters for different confidence levels. For co-integration we consider two conditions, firstly we check whether the t-stat is lesser than the critical value parameter (c_t[0] <= c_t[4][‘10%’]) and secondly whether the p-value is lesser than the significance level (c_t[1] <= 0.1)."
   ]
  },
  {
   "cell_type": "code",
   "execution_count": null,
   "metadata": {},
   "outputs": [],
   "source": []
  }
 ],
 "metadata": {
  "kernelspec": {
   "display_name": "Python 3",
   "language": "python",
   "name": "python3"
  },
  "language_info": {
   "codemirror_mode": {
    "name": "ipython",
    "version": 3
   },
   "file_extension": ".py",
   "mimetype": "text/x-python",
   "name": "python",
   "nbconvert_exporter": "python",
   "pygments_lexer": "ipython3",
   "version": "3.7.3"
  }
 },
 "nbformat": 4,
 "nbformat_minor": 2
}
